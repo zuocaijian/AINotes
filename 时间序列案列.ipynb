{
 "cells": [
  {
   "cell_type": "code",
   "execution_count": 2,
   "metadata": {},
   "outputs": [],
   "source": [
    "import numpy as np\n",
    "import pandas as pd"
   ]
  },
  {
   "cell_type": "markdown",
   "metadata": {},
   "source": [
    "### 时间序列  \n",
    " - 时间戳(timestamp)\n",
    " - 固定周期(period)\n",
    " - 时间间隔(interval)"
   ]
  },
  {
   "cell_type": "markdown",
   "metadata": {},
   "source": [
    "### date_range\n",
    "  * 可以指定开始时间与周期\n",
    "  * H：小时\n",
    "  * D：天\n",
    "  * M：月"
   ]
  },
  {
   "cell_type": "code",
   "execution_count": 3,
   "metadata": {},
   "outputs": [
    {
     "name": "stdout",
     "output_type": "stream",
     "text": [
      "DatetimeIndex(['2016-07-01', '2016-07-02', '2016-07-03', '2016-07-04',\n",
      "               '2016-07-05', '2016-07-06', '2016-07-07', '2016-07-08',\n",
      "               '2016-07-09', '2016-07-10'],\n",
      "              dtype='datetime64[ns]', freq='D')\n",
      "DatetimeIndex(['2016-07-01', '2016-07-04', '2016-07-07', '2016-07-10',\n",
      "               '2016-07-13', '2016-07-16', '2016-07-19', '2016-07-22',\n",
      "               '2016-07-25', '2016-07-28'],\n",
      "              dtype='datetime64[ns]', freq='3D')\n",
      "DatetimeIndex(['2016-07-31', '2016-08-31', '2016-09-30', '2016-10-31',\n",
      "               '2016-11-30', '2016-12-31', '2017-01-31', '2017-02-28',\n",
      "               '2017-03-31', '2017-04-30'],\n",
      "              dtype='datetime64[ns]', freq='M')\n"
     ]
    }
   ],
   "source": [
    "# TIMES #2016 Jul 7/1/2016 2016-07-01 2016/07/01...\n",
    "rng = pd.date_range('2016/07/01', periods=10, freq='D')\n",
    "print(rng)\n",
    "rng = pd.date_range('2016/07/01', periods=10, freq='3D')\n",
    "print(rng)\n",
    "rng = pd.date_range('2016/07/01', periods=10, freq='M')\n",
    "print(rng)"
   ]
  },
  {
   "cell_type": "code",
   "execution_count": 4,
   "metadata": {},
   "outputs": [
    {
     "name": "stdout",
     "output_type": "stream",
     "text": [
      "2016-01-01   -2.738372\n",
      "2016-01-02    0.367500\n",
      "2016-01-03   -0.768881\n",
      "2016-01-04    0.784654\n",
      "2016-01-05    1.592595\n",
      "2016-01-06    2.012417\n",
      "2016-01-07   -0.532578\n",
      "2016-01-08   -0.185498\n",
      "2016-01-09   -0.693614\n",
      "2016-01-10   -0.797822\n",
      "2016-01-11   -1.647884\n",
      "2016-01-12   -0.918827\n",
      "2016-01-13    0.082519\n",
      "2016-01-14   -0.035662\n",
      "2016-01-15    0.957049\n",
      "2016-01-16    0.123884\n",
      "2016-01-17    0.980739\n",
      "2016-01-18   -0.053883\n",
      "2016-01-19    0.276773\n",
      "2016-01-20    0.048328\n",
      "Freq: D, dtype: float64\n"
     ]
    }
   ],
   "source": [
    "time=pd.Series(np.random.randn(20), index=pd.date_range(pd.datetime(2016, 1, 1), periods=20))\n",
    "print(time)"
   ]
  },
  {
   "cell_type": "markdown",
   "metadata": {},
   "source": [
    "### truncate 过滤"
   ]
  },
  {
   "cell_type": "code",
   "execution_count": 5,
   "metadata": {},
   "outputs": [
    {
     "data": {
      "text/plain": [
       "2016-01-09   -0.693614\n",
       "2016-01-10   -0.797822\n",
       "2016-01-11   -1.647884\n",
       "2016-01-12   -0.918827\n",
       "2016-01-13    0.082519\n",
       "2016-01-14   -0.035662\n",
       "2016-01-15    0.957049\n",
       "2016-01-16    0.123884\n",
       "2016-01-17    0.980739\n",
       "2016-01-18   -0.053883\n",
       "2016-01-19    0.276773\n",
       "2016-01-20    0.048328\n",
       "Freq: D, dtype: float64"
      ]
     },
     "execution_count": 5,
     "metadata": {},
     "output_type": "execute_result"
    }
   ],
   "source": [
    "time.truncate(before='2016-01-09')"
   ]
  },
  {
   "cell_type": "code",
   "execution_count": 6,
   "metadata": {},
   "outputs": [
    {
     "data": {
      "text/plain": [
       "2016-01-01   -2.738372\n",
       "2016-01-02    0.367500\n",
       "2016-01-03   -0.768881\n",
       "2016-01-04    0.784654\n",
       "2016-01-05    1.592595\n",
       "2016-01-06    2.012417\n",
       "2016-01-07   -0.532578\n",
       "2016-01-08   -0.185498\n",
       "2016-01-09   -0.693614\n",
       "Freq: D, dtype: float64"
      ]
     },
     "execution_count": 6,
     "metadata": {},
     "output_type": "execute_result"
    }
   ],
   "source": [
    "time.truncate(after='2016-1-09')"
   ]
  },
  {
   "cell_type": "code",
   "execution_count": 8,
   "metadata": {},
   "outputs": [
    {
     "name": "stdout",
     "output_type": "stream",
     "text": [
      "-0.693614259737\n"
     ]
    }
   ],
   "source": [
    "print(time['2016-01-09'])"
   ]
  },
  {
   "cell_type": "code",
   "execution_count": 9,
   "metadata": {},
   "outputs": [
    {
     "name": "stdout",
     "output_type": "stream",
     "text": [
      "2016-01-07   -0.532578\n",
      "2016-01-08   -0.185498\n",
      "2016-01-09   -0.693614\n",
      "2016-01-10   -0.797822\n",
      "2016-01-11   -1.647884\n",
      "2016-01-12   -0.918827\n",
      "2016-01-13    0.082519\n",
      "2016-01-14   -0.035662\n",
      "2016-01-15    0.957049\n",
      "Freq: D, dtype: float64\n"
     ]
    }
   ],
   "source": [
    "print(time['2016-01-07':'2016-01-15'])"
   ]
  },
  {
   "cell_type": "code",
   "execution_count": 11,
   "metadata": {},
   "outputs": [
    {
     "name": "stdout",
     "output_type": "stream",
     "text": [
      "DatetimeIndex(['2016-01-31', '2016-02-29', '2016-03-31', '2016-04-30',\n",
      "               '2016-05-31'],\n",
      "              dtype='datetime64[ns]', freq='M')\n"
     ]
    }
   ],
   "source": [
    "data = pd.date_range('2016-01-01', '2016-06-01', freq='M')\n",
    "print(data)"
   ]
  },
  {
   "cell_type": "markdown",
   "metadata": {},
   "source": [
    "### 参数说明\n",
    "别名     偏移量类型      说明\n",
    " - D    Day            每日日历\n",
    " - B    BusinessDay      每工作日\n",
    " - H    Hour           每小时\n",
    " - T或min  Minute         每分\n",
    " - S    Second          每秒\n",
    " - L或ms  Milli          每毫秒\n",
    " - U    Micro          每微秒\n",
    " - M    MonthEnd        每月最后一个日历日\n",
    " - BM   BusinessMonthEnd   每月最后一个工作日\n",
    " - MS   MonthBegin       每月第一个日历日\n",
    " - BMS  BusinessMonthBegin   每月第一个工作日\n",
    " - W-MON, W-TUE...   Week     从指定的星期几(MON, TUE, WED, THU FRI, SAT, SUN）开始算起，每周\n",
    " - WOM-1MON, WOM-2MON...   WeekOfMonth    产生每月第一，第二，第三或第四周的星期几。例如：WOM-3FRI表示每月第3个星期五\n",
    " - Q-JAN, Q-FEB, ...      QuarteEnd     对于指定月份(JAN, FEB, MAR, APR, MAY, JUN, JUL, AUG, SEP, OCT, NOV, DEC)结束的年度，每季度最后一月的最后一个日历日\n",
    " - BQ-JAN, BQ-FEB...      BusinessQuarterEnd    对于指定月份(JAN, FEB, MAR, APR, MAY, JUN, JUL, AUG, SEP, OCT, NOV, DEC)结束的年度，每季度最后一月的最后一个日历日\n",
    " - QS-JAN, QS-FEB...      QuarterBegin        对于指定月份(JAN, FEB, MAR, APR, MAY, JUN, JUL, AUG, SEP, OCT, NOV, DEC)结束的年度，每季度最后一月的第一个日历日\n",
    " - BQS-JAN, BQS-FEB...    BusinessQuarterBegin   对于指定月份(JAN, FEB, MAR, APR, MAY, JUN, JUL, AUG, SEP, OCT, NOV, DEC)结束的年度，每季度最后一月的第一个工作日"
   ]
  },
  {
   "cell_type": "code",
   "execution_count": 13,
   "metadata": {},
   "outputs": [
    {
     "data": {
      "text/plain": [
       "Timestamp('2016-07-10 00:00:00')"
      ]
     },
     "execution_count": 13,
     "metadata": {},
     "output_type": "execute_result"
    }
   ],
   "source": [
    "# 时间戳\n",
    "pd.Timestamp('2016-07-10')"
   ]
  },
  {
   "cell_type": "code",
   "execution_count": 14,
   "metadata": {},
   "outputs": [
    {
     "data": {
      "text/plain": [
       "Timestamp('2016-07-10 00:00:00')"
      ]
     },
     "execution_count": 14,
     "metadata": {},
     "output_type": "execute_result"
    }
   ],
   "source": [
    "# 可以指定更多细节\n",
    "pd.Timestamp('2016-07-10')"
   ]
  },
  {
   "cell_type": "code",
   "execution_count": 15,
   "metadata": {},
   "outputs": [
    {
     "data": {
      "text/plain": [
       "Timestamp('2016-07-10 10:15:00')"
      ]
     },
     "execution_count": 15,
     "metadata": {},
     "output_type": "execute_result"
    }
   ],
   "source": [
    "pd.Timestamp('2016-07-10 10:15')"
   ]
  },
  {
   "cell_type": "code",
   "execution_count": 16,
   "metadata": {},
   "outputs": [],
   "source": [
    "t = pd.Timestamp('2016-07-10 10:15')"
   ]
  },
  {
   "cell_type": "code",
   "execution_count": 18,
   "metadata": {},
   "outputs": [
    {
     "data": {
      "text/plain": [
       "Period('2016-01', 'M')"
      ]
     },
     "execution_count": 18,
     "metadata": {},
     "output_type": "execute_result"
    }
   ],
   "source": [
    "# 时间区间\n",
    "pd.Period('2016-01')"
   ]
  },
  {
   "cell_type": "code",
   "execution_count": 19,
   "metadata": {},
   "outputs": [
    {
     "data": {
      "text/plain": [
       "Period('2016-07-01', 'D')"
      ]
     },
     "execution_count": 19,
     "metadata": {},
     "output_type": "execute_result"
    }
   ],
   "source": [
    "pd.Period('2016-07-01')"
   ]
  },
  {
   "cell_type": "code",
   "execution_count": 20,
   "metadata": {},
   "outputs": [
    {
     "data": {
      "text/plain": [
       "Timedelta('1 days 00:00:00')"
      ]
     },
     "execution_count": 20,
     "metadata": {},
     "output_type": "execute_result"
    }
   ],
   "source": [
    "# Time Offsets\n",
    "pd.Timedelta('1 day')"
   ]
  },
  {
   "cell_type": "code",
   "execution_count": 30,
   "metadata": {},
   "outputs": [
    {
     "name": "stdout",
     "output_type": "stream",
     "text": [
      "2016-07-01 11:10\n",
      "2016-07-02 10:10\n",
      "2016-07-01 10:10:00.000000015\n"
     ]
    }
   ],
   "source": [
    "print(pd.Period('2016-07-01 10:10') + pd.Timedelta('1 hour'))\n",
    "print(pd.Period('2016-07-01 10:10') + pd.Timedelta('1 day'))\n",
    "print(pd.Timestamp('2016-07-01 10:10') + pd.Timedelta('15 ns'))"
   ]
  },
  {
   "cell_type": "code",
   "execution_count": 32,
   "metadata": {},
   "outputs": [
    {
     "name": "stdout",
     "output_type": "stream",
     "text": [
      "PeriodIndex(['2016-07-10 10:00', '2016-07-11 11:00', '2016-07-12 12:00',\n",
      "             '2016-07-13 13:00', '2016-07-14 14:00', '2016-07-15 15:00',\n",
      "             '2016-07-16 16:00', '2016-07-17 17:00', '2016-07-18 18:00',\n",
      "             '2016-07-19 19:00'],\n",
      "            dtype='period[25H]', freq='25H')\n"
     ]
    }
   ],
   "source": [
    "p1 = pd.period_range('20160710 10:10', freq='25H', periods=10)\n",
    "print(p1)"
   ]
  },
  {
   "cell_type": "code",
   "execution_count": 34,
   "metadata": {},
   "outputs": [
    {
     "name": "stdout",
     "output_type": "stream",
     "text": [
      "PeriodIndex(['2016-07-10 10:00', '2016-07-11 11:00', '2016-07-12 12:00',\n",
      "             '2016-07-13 13:00', '2016-07-14 14:00', '2016-07-15 15:00',\n",
      "             '2016-07-16 16:00', '2016-07-17 17:00', '2016-07-18 18:00',\n",
      "             '2016-07-19 19:00'],\n",
      "            dtype='period[25H]', freq='25H')\n"
     ]
    }
   ],
   "source": [
    "p2 = pd.period_range('2016-07-10 10:10', freq='1D1H', periods=10)\n",
    "print(p2)"
   ]
  },
  {
   "cell_type": "code",
   "execution_count": 44,
   "metadata": {},
   "outputs": [
    {
     "name": "stdout",
     "output_type": "stream",
     "text": [
      "DatetimeIndex(['2016-07-01', '2016-07-02', '2016-07-03', '2016-07-04',\n",
      "               '2016-07-05', '2016-07-06', '2016-07-07', '2016-07-08',\n",
      "               '2016-07-09', '2016-07-10'],\n",
      "              dtype='datetime64[ns]', freq='D')\n",
      "2016-07-01    0\n",
      "2016-07-02    1\n",
      "2016-07-03    2\n",
      "2016-07-04    3\n",
      "2016-07-05    4\n",
      "2016-07-06    5\n",
      "2016-07-07    6\n",
      "2016-07-08    7\n",
      "2016-07-09    8\n",
      "2016-07-10    9\n",
      "Freq: D, dtype: int64\n"
     ]
    }
   ],
   "source": [
    "# 指定索引\n",
    "rng = pd.date_range('2016 Jul 1', periods=10, freq='D')\n",
    "print(rng)\n",
    "print(pd.Series(range(len(rng)), index=rng))"
   ]
  },
  {
   "cell_type": "code",
   "execution_count": 46,
   "metadata": {},
   "outputs": [
    {
     "name": "stdout",
     "output_type": "stream",
     "text": [
      "2016-01   -1.223798\n",
      "2016-02   -1.071912\n",
      "2016-03   -1.052463\n",
      "Freq: M, dtype: float64\n"
     ]
    }
   ],
   "source": [
    "periods = [pd.Period('2016-01'), pd.Period('2016-02'), pd.Period('2016-03')]\n",
    "ts = pd.Series(np.random.randn(len(periods)), index=periods)\n",
    "print(ts)"
   ]
  },
  {
   "cell_type": "code",
   "execution_count": 47,
   "metadata": {},
   "outputs": [
    {
     "data": {
      "text/plain": [
       "pandas.core.series.Series"
      ]
     },
     "execution_count": 47,
     "metadata": {},
     "output_type": "execute_result"
    }
   ],
   "source": [
    "type(ts)"
   ]
  },
  {
   "cell_type": "code",
   "execution_count": 49,
   "metadata": {},
   "outputs": [
    {
     "data": {
      "text/plain": [
       "2016-07-10 08:00:00    0\n",
       "2016-07-10 09:00:00    1\n",
       "2016-07-10 10:00:00    2\n",
       "2016-07-10 11:00:00    3\n",
       "2016-07-10 12:00:00    4\n",
       "2016-07-10 13:00:00    5\n",
       "2016-07-10 14:00:00    6\n",
       "2016-07-10 15:00:00    7\n",
       "2016-07-10 16:00:00    8\n",
       "2016-07-10 17:00:00    9\n",
       "Freq: H, dtype: int64"
      ]
     },
     "execution_count": 49,
     "metadata": {},
     "output_type": "execute_result"
    }
   ],
   "source": [
    "# 时间戳和时间周期可以转换\n",
    "ts = pd.Series(range(10), pd.date_range('07-10-16 8:00', periods=10, freq='H'))\n",
    "ts"
   ]
  },
  {
   "cell_type": "code",
   "execution_count": 53,
   "metadata": {},
   "outputs": [
    {
     "data": {
      "text/plain": [
       "2016-07-10 08:00    0\n",
       "2016-07-10 09:00    1\n",
       "2016-07-10 10:00    2\n",
       "2016-07-10 11:00    3\n",
       "2016-07-10 12:00    4\n",
       "2016-07-10 13:00    5\n",
       "2016-07-10 14:00    6\n",
       "2016-07-10 15:00    7\n",
       "2016-07-10 16:00    8\n",
       "2016-07-10 17:00    9\n",
       "Freq: H, dtype: int64"
      ]
     },
     "execution_count": 53,
     "metadata": {},
     "output_type": "execute_result"
    }
   ],
   "source": [
    "ts_period = ts.to_period()\n",
    "ts_period"
   ]
  },
  {
   "cell_type": "code",
   "execution_count": 54,
   "metadata": {},
   "outputs": [
    {
     "data": {
      "text/plain": [
       "2016-07-10 08:00    0\n",
       "2016-07-10 09:00    1\n",
       "2016-07-10 10:00    2\n",
       "2016-07-10 11:00    3\n",
       "Freq: H, dtype: int64"
      ]
     },
     "execution_count": 54,
     "metadata": {},
     "output_type": "execute_result"
    }
   ],
   "source": [
    "ts_period['2016-07-10 08:30':'2016-07-10 11:45']"
   ]
  },
  {
   "cell_type": "code",
   "execution_count": 57,
   "metadata": {},
   "outputs": [
    {
     "data": {
      "text/plain": [
       "2016-07-10 09:00:00    1\n",
       "2016-07-10 10:00:00    2\n",
       "2016-07-10 11:00:00    3\n",
       "Freq: H, dtype: int64"
      ]
     },
     "execution_count": 57,
     "metadata": {},
     "output_type": "execute_result"
    }
   ],
   "source": [
    "ts['2016-07-10 08:30':'2016-07-10 11:45']"
   ]
  },
  {
   "cell_type": "code",
   "execution_count": 58,
   "metadata": {},
   "outputs": [
    {
     "data": {
      "text/plain": [
       "<bound method Series.to_period of 2016-07-10 09:00:00    1\n",
       "2016-07-10 10:00:00    2\n",
       "2016-07-10 11:00:00    3\n",
       "Freq: H, dtype: int64>"
      ]
     },
     "execution_count": 58,
     "metadata": {},
     "output_type": "execute_result"
    }
   ],
   "source": [
    "ts['2016-07-10 08:30':'2016-07-10 11:45'].to_period"
   ]
  },
  {
   "cell_type": "code",
   "execution_count": null,
   "metadata": {},
   "outputs": [],
   "source": []
  }
 ],
 "metadata": {
  "kernelspec": {
   "display_name": "Python 3",
   "language": "python",
   "name": "python3"
  },
  "language_info": {
   "codemirror_mode": {
    "name": "ipython",
    "version": 3
   },
   "file_extension": ".py",
   "mimetype": "text/x-python",
   "name": "python",
   "nbconvert_exporter": "python",
   "pygments_lexer": "ipython3",
   "version": "3.6.3"
  }
 },
 "nbformat": 4,
 "nbformat_minor": 2
}
