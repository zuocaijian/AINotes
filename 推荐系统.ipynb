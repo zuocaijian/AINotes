{
 "cells": [
  {
   "cell_type": "markdown",
   "metadata": {},
   "source": [
    "### 使用Tensorflow构造隐语义模型的推荐系统  \n",
    "#### 3900个电影 6040个用户  \n",
    " 数据简介：[http://files.grouplens.org/datasets/movielens/ml-1m-README.txt]()  \n",
    " 数据下载地址：[http://files.grouplens.org/datasets/movielens/ml-1m.zip]()"
   ]
  },
  {
   "cell_type": "markdown",
   "metadata": {},
   "source": [
    "### 协同过滤  \n",
    " 1. 收集用户偏好 \n",
    " 2. 找到相似的用户或物品  \n",
    " 3. 计算推荐"
   ]
  },
  {
   "cell_type": "markdown",
   "metadata": {},
   "source": [
    "**相似度计算：**\n",
    " - 欧几里得距离\n",
    " - 皮尔逊相关系数\n",
    " - Cosine相似度"
   ]
  },
  {
   "cell_type": "markdown",
   "metadata": {},
   "source": [
    "**评估标准：**\n",
    " - 准确度\n",
    " - 召回率  \n",
    " - 覆盖率\n",
    " - 多样性  \n",
    " - ..."
   ]
  },
  {
   "cell_type": "code",
   "execution_count": null,
   "metadata": {},
   "outputs": [],
   "source": []
  }
 ],
 "metadata": {
  "kernelspec": {
   "display_name": "Python 3",
   "language": "python",
   "name": "python3"
  },
  "language_info": {
   "codemirror_mode": {
    "name": "ipython",
    "version": 3
   },
   "file_extension": ".py",
   "mimetype": "text/x-python",
   "name": "python",
   "nbconvert_exporter": "python",
   "pygments_lexer": "ipython3",
   "version": "3.6.3"
  }
 },
 "nbformat": 4,
 "nbformat_minor": 2
}
