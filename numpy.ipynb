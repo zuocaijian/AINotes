{
 "cells": [
  {
   "cell_type": "code",
   "execution_count": 2,
   "metadata": {},
   "outputs": [
    {
     "data": {
      "text/plain": [
       "array(['123', '456', '789'],\n",
       "      dtype='<U3')"
      ]
     },
     "execution_count": 2,
     "metadata": {},
     "output_type": "execute_result"
    }
   ],
   "source": [
    "import numpy as np\n",
    "# nnumpy 常用方法"
   ]
  },
  {
   "cell_type": "code",
   "execution_count": 59,
   "metadata": {},
   "outputs": [
    {
     "data": {
      "text/plain": [
       "array(['123', '456', '789'],\n",
       "      dtype='<U3')"
      ]
     },
     "execution_count": 59,
     "metadata": {},
     "output_type": "execute_result"
    }
   ],
   "source": [
    "# 1、从txt文件读取数据\n",
    "np.genfromtxt('data/test.txt', delimiter=',', dtype=str)"
   ]
  },
  {
   "cell_type": "code",
   "execution_count": 12,
   "metadata": {},
   "outputs": [
    {
     "name": "stdout",
     "output_type": "stream",
     "text": [
      "[1 2 3 4]\n",
      "[[ 0.79258283  0.77876931  0.78907352  0.49831839  0.37916779]\n",
      " [ 0.14774699  0.57109916  0.41302873  0.82216068  0.73016182]\n",
      " [ 0.59071171  0.86251568  0.14737904  0.06789368  0.54388709]\n",
      " [ 0.01043839  0.40587522  0.53054519  0.73748838  0.79023051]]\n",
      "[ 0.  0.  0.  0.  0.]\n",
      "[[ 1.  1.]\n",
      " [ 1.  1.]]\n",
      "[0 1 2 3]\n",
      "[4 5 6 7 8 9]\n",
      "[ 1  6 11 16 21 26 31 36 41 46 51 56 61 66 71 76 81 86 91 96]\n",
      "[  1.   10.5  20. ]\n"
     ]
    }
   ],
   "source": [
    "# 2、生成数据\n",
    "a = np.array([1,2,3,4])\n",
    "print(a)\n",
    "b = np.random.random((4,5))\n",
    "print(b)\n",
    "c = np.zeros(5)\n",
    "print(c)\n",
    "d = np.ones((2,2))\n",
    "print(d)\n",
    "e = np.arange(4)\n",
    "print(e)\n",
    "f = np.arange(4,10)\n",
    "print(f)\n",
    "g = np.arange(1,100, 5)\n",
    "print(g)\n",
    "h = np.linspace(1, 20, 3)\n",
    "print(h)"
   ]
  },
  {
   "cell_type": "code",
   "execution_count": 27,
   "metadata": {},
   "outputs": [
    {
     "name": "stdout",
     "output_type": "stream",
     "text": [
      "(10,)\n",
      "(4, 5)\n",
      "float64\n",
      "float64\n",
      "10\n",
      "20\n"
     ]
    }
   ],
   "source": [
    "# 3、属性，包括类型、数组及矩阵大小\n",
    "a = np.random.random(10)\n",
    "b = np.random.random((4,5))\n",
    "print(a.shape)\n",
    "print(b.shape)\n",
    "print(a.dtype)\n",
    "print(b.dtype)\n",
    "print(a.size)\n",
    "print(b.size)"
   ]
  },
  {
   "cell_type": "code",
   "execution_count": 58,
   "metadata": {},
   "outputs": [
    {
     "name": "stdout",
     "output_type": "stream",
     "text": [
      "[[ 0.60795141  0.27532118  0.62325807  0.49508711  0.6741002 ]\n",
      " [ 0.38806056  0.49411044  0.83392464  0.05026023  0.78700123]\n",
      " [ 0.2414485   0.57566924  0.12582893  0.6081079   0.61390863]\n",
      " [ 0.38709078  0.67006486  0.39963671  0.82075543  0.35533404]]\n",
      "[[ 0.33982807  0.76928459  0.78817744  0.78020245  0.70275504]\n",
      " [ 0.32587557  0.31739967  0.26405809  0.57962497  0.79001261]\n",
      " [ 0.07210728  0.07813884  0.20529021  0.25768324  0.71593685]\n",
      " [ 0.66675245  0.51480186  0.63907676  0.99244989  0.62012087]]\n",
      "[[ 0.60795141]\n",
      " [ 0.27532118]\n",
      " [ 0.62325807]\n",
      " [ 0.49508711]\n",
      " [ 0.6741002 ]\n",
      " [ 0.38806056]\n",
      " [ 0.49411044]\n",
      " [ 0.83392464]\n",
      " [ 0.05026023]\n",
      " [ 0.78700123]\n",
      " [ 0.2414485 ]\n",
      " [ 0.57566924]\n",
      " [ 0.12582893]\n",
      " [ 0.6081079 ]\n",
      " [ 0.61390863]\n",
      " [ 0.38709078]\n",
      " [ 0.67006486]\n",
      " [ 0.39963671]\n",
      " [ 0.82075543]\n",
      " [ 0.35533404]]\n",
      "[[ 0.33982807  0.76928459  0.78817744  0.78020245  0.70275504  0.32587557\n",
      "   0.31739967  0.26405809  0.57962497  0.79001261  0.07210728  0.07813884\n",
      "   0.20529021  0.25768324  0.71593685  0.66675245  0.51480186  0.63907676\n",
      "   0.99244989  0.62012087]]\n",
      "[[0 1]\n",
      " [2 3]]\n",
      "[[4 5]\n",
      " [6 7]]\n",
      "[0 1 2 3]\n",
      "[[0 1]\n",
      " [2 3]\n",
      " [4 5]\n",
      " [6 7]]\n",
      "[[0 1 4 5]\n",
      " [2 3 6 7]]\n",
      "[array([[ 0.60795141,  0.27532118,  0.62325807,  0.49508711,  0.6741002 ],\n",
      "       [ 0.38806056,  0.49411044,  0.83392464,  0.05026023,  0.78700123]]), array([[ 0.2414485 ,  0.57566924,  0.12582893,  0.6081079 ,  0.61390863],\n",
      "       [ 0.38709078,  0.67006486,  0.39963671,  0.82075543,  0.35533404]])]\n",
      "[[ 4.35557322  7.12111918]\n",
      " [ 2.7844768   2.51839217]]\n",
      "[[ 1661777717  1074883611 -1436574608  1075608582]\n",
      " [ -967595980  1074153115  -895357460  1074013610]]\n",
      "[[ 0.97246759  2.98778649]\n",
      " [ 0.30066068  2.59564296]]\n",
      "[[ 0.  2.]\n",
      " [ 0.  2.]]\n"
     ]
    }
   ],
   "source": [
    "# 4、转换\n",
    "a = np.random.random((4,5))\n",
    "b = np.random.random((4,5))\n",
    "print(a)\n",
    "print(b)\n",
    "print(a.reshape(20,1))\n",
    "b.shape = (1,20)\n",
    "print(b)\n",
    "c = np.arange(4).reshape((2,2))\n",
    "d = np.arange(4,8).reshape((2,2))\n",
    "print(c)\n",
    "print(d)\n",
    "print(c.ravel())\n",
    "print(np.vstack((c,d)))\n",
    "print(np.hstack((c,d)))\n",
    "print(np.vsplit(a, 2))\n",
    "e = np.random.random((2,2)) * 10\n",
    "print(e)\n",
    "e.dtype = np.int\n",
    "print(e)\n",
    "f = np.random.random((2,2)) * 10\n",
    "print(f)\n",
    "g = np.floor(f)\n",
    "print(g)"
   ]
  },
  {
   "cell_type": "code",
   "execution_count": 49,
   "metadata": {},
   "outputs": [
    {
     "name": "stdout",
     "output_type": "stream",
     "text": [
      "[[ 0  1  2  3]\n",
      " [ 4  5  6  7]\n",
      " [ 8  9 10 11]\n",
      " [12 13 14 15]]\n",
      "[[16 17 18 19]\n",
      " [20 21 22 23]\n",
      " [24 25 26 27]\n",
      " [28 29 30 31]]\n",
      "[[  0  17  36  57]\n",
      " [ 80 105 132 161]\n",
      " [192 225 260 297]\n",
      " [336 377 420 465]]\n",
      "[[ 152  158  164  170]\n",
      " [ 504  526  548  570]\n",
      " [ 856  894  932  970]\n",
      " [1208 1262 1316 1370]]\n",
      "[[-16 -16 -16 -16]\n",
      " [-16 -16 -16 -16]\n",
      " [-16 -16 -16 -16]\n",
      " [-16 -16 -16 -16]]\n",
      "[[16 18 20 22]\n",
      " [24 26 28 30]\n",
      " [32 34 36 38]\n",
      " [40 42 44 46]]\n",
      "[[-0.28790332 -0.75098725  0.91294525 -0.00885131]\n",
      " [-0.90557836  0.76255845  0.27090579 -0.98803162]\n",
      " [ 0.55142668  0.52908269 -0.99177885  0.29636858]\n",
      " [ 0.74511316 -0.91652155  0.01770193  0.90178835]]\n",
      "-256\n",
      "[336 377 420 465]\n"
     ]
    }
   ],
   "source": [
    "# 5、运算，注意matrix的内积与matrix乘法，注意numpy中的广播\n",
    "a = np.arange(16).reshape(4,4)\n",
    "b = np.arange(16, 32).reshape(4,4)\n",
    "print(a)\n",
    "print(b)\n",
    "c = a * b\n",
    "d = a.dot(b)\n",
    "e = a - b\n",
    "f = a + b\n",
    "print(c)\n",
    "print(d)\n",
    "print(e)\n",
    "print(f)\n",
    "print(np.sin(f))\n",
    "print(np.sum(e))\n",
    "print(np.max(c, axis=0))"
   ]
  },
  {
   "cell_type": "code",
   "execution_count": 52,
   "metadata": {},
   "outputs": [
    {
     "name": "stdout",
     "output_type": "stream",
     "text": [
      "[0 1 2 3 4 5 6 7 8 9]\n",
      "[False False False False False False  True  True  True  True]\n",
      "[6 7 8 9]\n",
      "[[ 0.4252416   0.77904921  0.37950253  0.53813832  0.10327586]\n",
      " [ 0.42933737  0.59237625  0.37412052  0.04072978  0.77106643]\n",
      " [ 0.81198995  0.72946255  0.81959864  0.32512144  0.21747319]\n",
      " [ 0.52278353  0.13447679  0.07852795  0.38046533  0.64162077]]\n",
      "[2 0 2 0 1]\n"
     ]
    }
   ],
   "source": [
    "# 6、比较机制\n",
    "vector = np.arange(10)\n",
    "print(vector)\n",
    "print(vector>5)\n",
    "print(vector[vector>5])\n",
    "matrix = np.random.random(20).reshape((4,5))\n",
    "print(matrix)\n",
    "print(np.argmax(matrix, axis=0))"
   ]
  },
  {
   "cell_type": "code",
   "execution_count": null,
   "metadata": {},
   "outputs": [],
   "source": []
  }
 ],
 "metadata": {
  "kernelspec": {
   "display_name": "Python 3",
   "language": "python",
   "name": "python3"
  },
  "language_info": {
   "codemirror_mode": {
    "name": "ipython",
    "version": 3
   },
   "file_extension": ".py",
   "mimetype": "text/x-python",
   "name": "python",
   "nbconvert_exporter": "python",
   "pygments_lexer": "ipython3",
   "version": "3.6.1"
  }
 },
 "nbformat": 4,
 "nbformat_minor": 2
}
